{
 "cells": [
  {
   "cell_type": "code",
   "execution_count": 1,
   "metadata": {},
   "outputs": [],
   "source": [
    "import numpy as np\n",
    "import pandas as pd\n"
   ]
  },
  {
   "cell_type": "code",
   "execution_count": 2,
   "metadata": {},
   "outputs": [],
   "source": [
    "from math import e\n",
    "\n",
    "def sigmoid(x):\n",
    "    return 1 / (1 + np.power(e,-x))"
   ]
  },
  {
   "cell_type": "code",
   "execution_count": 3,
   "metadata": {},
   "outputs": [],
   "source": [
    "def predict(x, m):\n",
    "    return sigmoid(np.dot(x,m))"
   ]
  },
  {
   "cell_type": "code",
   "execution_count": 4,
   "metadata": {},
   "outputs": [],
   "source": [
    "'''\n",
    "def costf(x, y,m):\n",
    "    no = x.shape[0]\n",
    "    pre = predict(x,m)\n",
    "    #print(pre.shape,y.shape)\n",
    "    cost_1 = np.multiply((0-y),(np.log10(pre)))\n",
    "    cost_2 = np.multiply((1-y),(np.log10((1-pre))))\n",
    "    cost = (cost_1-cost_2 )\n",
    "    cost = cost.sum()/no\n",
    "    return cost\n",
    "'''\n",
    "def costf(x, y, theta):\n",
    "    m = x.shape[0]\n",
    "    h = sigmoid(np.matmul(x, theta))\n",
    "    cost = (np.matmul(-y.T, np.log(h)) - np.matmul((1 -y.T), np.log(1 - h)))/m\n",
    "    print(cost)\n",
    "    return cost"
   ]
  },
  {
   "cell_type": "code",
   "execution_count": 5,
   "metadata": {},
   "outputs": [],
   "source": [
    "def m_n(x,y,m, alpha):\n",
    "    N = len(x)\n",
    "    pre = predict(x,m)\n",
    "    #print(pre.shape)\n",
    "    g = np.dot(x.T,  pre - y)\n",
    "    g *= (alpha/N)\n",
    "    #print(g)\n",
    "    m = m - g\n",
    "    return m"
   ]
  },
  {
   "cell_type": "code",
   "execution_count": 6,
   "metadata": {},
   "outputs": [],
   "source": [
    "def gradient(x, y, m, alpha, iters):\n",
    "\n",
    "    for i in range(iters):\n",
    "        m = m_n(x,y,m,alpha)\n",
    "        cost = costf(x,y,m)\n",
    "        if i % 1000 == 0:\n",
    "            print( cost)\n",
    "\n",
    "    return m"
   ]
  },
  {
   "cell_type": "code",
   "execution_count": 7,
   "metadata": {},
   "outputs": [
    {
     "ename": "NameError",
     "evalue": "name 'x' is not defined",
     "output_type": "error",
     "traceback": [
      "\u001b[1;31m---------------------------------------------------------------------------\u001b[0m",
      "\u001b[1;31mNameError\u001b[0m                                 Traceback (most recent call last)",
      "\u001b[1;32m<ipython-input-7-97a08e30e32e>\u001b[0m in \u001b[0;36m<module>\u001b[1;34m\u001b[0m\n\u001b[1;32m----> 1\u001b[1;33m \u001b[0mm\u001b[0m \u001b[1;33m=\u001b[0m \u001b[0mnp\u001b[0m\u001b[1;33m.\u001b[0m\u001b[0mzeros\u001b[0m\u001b[1;33m(\u001b[0m\u001b[0mx\u001b[0m\u001b[1;33m.\u001b[0m\u001b[0mshape\u001b[0m\u001b[1;33m[\u001b[0m\u001b[1;36m1\u001b[0m\u001b[1;33m]\u001b[0m\u001b[1;33m)\u001b[0m\u001b[1;33m\u001b[0m\u001b[1;33m\u001b[0m\u001b[0m\n\u001b[0m\u001b[0;32m      2\u001b[0m \u001b[0mm\u001b[0m \u001b[1;33m=\u001b[0m \u001b[0mm\u001b[0m\u001b[1;33m.\u001b[0m\u001b[0mreshape\u001b[0m\u001b[1;33m(\u001b[0m\u001b[1;33m-\u001b[0m\u001b[1;36m1\u001b[0m\u001b[1;33m,\u001b[0m\u001b[1;36m1\u001b[0m\u001b[1;33m)\u001b[0m\u001b[1;33m\u001b[0m\u001b[1;33m\u001b[0m\u001b[0m\n",
      "\u001b[1;31mNameError\u001b[0m: name 'x' is not defined"
     ]
    }
   ],
   "source": [
    "m = np.zeros(x.shape[1])\n",
    "m = m.reshape(-1,1)"
   ]
  },
  {
   "cell_type": "code",
   "execution_count": null,
   "metadata": {},
   "outputs": [],
   "source": [
    "train = pd.read_csv('9db113a1-cdbe-4b1c-98c2-11590f124dd8.csv')\n",
    "test = pd.read_csv('5c9fa979-5a84-45d6-93b9-543d1a0efc41.csv')"
   ]
  },
  {
   "cell_type": "code",
   "execution_count": null,
   "metadata": {},
   "outputs": [],
   "source": [
    "train.shape,test.shape,x.shape,y.shape,test_x.shape"
   ]
  },
  {
   "cell_type": "code",
   "execution_count": null,
   "metadata": {},
   "outputs": [],
   "source": [
    "x = np.matrix(train.iloc[:,1:5])\n",
    "y = np.matrix(train.iloc[:,-1]).reshape(-1,1)\n",
    "test_x = np.matrix(test.iloc[:,1:])"
   ]
  },
  {
   "cell_type": "code",
   "execution_count": null,
   "metadata": {},
   "outputs": [],
   "source": [
    "m.shape"
   ]
  },
  {
   "cell_type": "code",
   "execution_count": null,
   "metadata": {},
   "outputs": [],
   "source": [
    "p = gradient(x,y,m,0.001,10000)\n",
    "print(p)"
   ]
  },
  {
   "cell_type": "code",
   "execution_count": null,
   "metadata": {},
   "outputs": [],
   "source": [
    "p"
   ]
  },
  {
   "cell_type": "code",
   "execution_count": null,
   "metadata": {},
   "outputs": [],
   "source": [
    "y_pred = predict(test_x,m)"
   ]
  },
  {
   "cell_type": "code",
   "execution_count": null,
   "metadata": {},
   "outputs": [],
   "source": [
    "y_pred"
   ]
  },
  {
   "cell_type": "code",
   "execution_count": null,
   "metadata": {},
   "outputs": [],
   "source": [
    "from sklearn.linear_model import LogisticRegression"
   ]
  },
  {
   "cell_type": "code",
   "execution_count": null,
   "metadata": {},
   "outputs": [],
   "source": [
    "clf = LogisticRegression()"
   ]
  },
  {
   "cell_type": "code",
   "execution_count": null,
   "metadata": {},
   "outputs": [],
   "source": [
    "clf.fit(x,y)"
   ]
  },
  {
   "cell_type": "code",
   "execution_count": null,
   "metadata": {},
   "outputs": [],
   "source": [
    "u = clf.predict_log_proba(test_x)"
   ]
  },
  {
   "cell_type": "code",
   "execution_count": null,
   "metadata": {},
   "outputs": [],
   "source": [
    "u"
   ]
  },
  {
   "cell_type": "code",
   "execution_count": null,
   "metadata": {},
   "outputs": [],
   "source": [
    "from sklearn.linear_model import SGDClassifier"
   ]
  },
  {
   "cell_type": "code",
   "execution_count": null,
   "metadata": {},
   "outputs": [],
   "source": [
    "clfl = SGDClassifier(loss = 'log')"
   ]
  },
  {
   "cell_type": "code",
   "execution_count": null,
   "metadata": {},
   "outputs": [],
   "source": [
    "clfl.fit(x,y)"
   ]
  },
  {
   "cell_type": "code",
   "execution_count": 8,
   "metadata": {},
   "outputs": [
    {
     "ename": "NameError",
     "evalue": "name 'clfl' is not defined",
     "output_type": "error",
     "traceback": [
      "\u001b[1;31m---------------------------------------------------------------------------\u001b[0m",
      "\u001b[1;31mNameError\u001b[0m                                 Traceback (most recent call last)",
      "\u001b[1;32m<ipython-input-8-1e013c669db7>\u001b[0m in \u001b[0;36m<module>\u001b[1;34m\u001b[0m\n\u001b[1;32m----> 1\u001b[1;33m \u001b[0my\u001b[0m \u001b[1;33m=\u001b[0m \u001b[0mclfl\u001b[0m\u001b[1;33m.\u001b[0m\u001b[0mpredict_log_proba\u001b[0m\u001b[1;33m(\u001b[0m\u001b[0mtest_x\u001b[0m\u001b[1;33m)\u001b[0m\u001b[1;33m\u001b[0m\u001b[1;33m\u001b[0m\u001b[0m\n\u001b[0m",
      "\u001b[1;31mNameError\u001b[0m: name 'clfl' is not defined"
     ]
    }
   ],
   "source": [
    "y = clfl.predict_log_proba(test_x)"
   ]
  },
  {
   "cell_type": "code",
   "execution_count": 49,
   "metadata": {},
   "outputs": [
    {
     "data": {
      "text/plain": [
       "array([[-inf,   0.],\n",
       "       [-inf,   0.],\n",
       "       [-inf,   0.],\n",
       "       [-inf,   0.],\n",
       "       [-inf,   0.],\n",
       "       [-inf,   0.],\n",
       "       [-inf,   0.],\n",
       "       [  0., -inf],\n",
       "       [  0., -inf],\n",
       "       [  0., -inf],\n",
       "       [-inf,   0.],\n",
       "       [-inf,   0.],\n",
       "       [-inf,   0.],\n",
       "       [-inf,   0.],\n",
       "       [-inf,   0.],\n",
       "       [  0., -inf],\n",
       "       [-inf,   0.],\n",
       "       [-inf,   0.],\n",
       "       [-inf,   0.],\n",
       "       [-inf,   0.],\n",
       "       [-inf,   0.],\n",
       "       [-inf,   0.],\n",
       "       [-inf,   0.],\n",
       "       [-inf,   0.],\n",
       "       [  0., -inf],\n",
       "       [-inf,   0.],\n",
       "       [-inf,   0.],\n",
       "       [  0., -inf],\n",
       "       [-inf,   0.],\n",
       "       [-inf,   0.],\n",
       "       [-inf,   0.],\n",
       "       [  0., -inf],\n",
       "       [-inf,   0.],\n",
       "       [-inf,   0.],\n",
       "       [  0., -inf],\n",
       "       [-inf,   0.],\n",
       "       [  0., -inf],\n",
       "       [  0., -inf],\n",
       "       [-inf,   0.],\n",
       "       [-inf,   0.],\n",
       "       [-inf,   0.],\n",
       "       [-inf,   0.],\n",
       "       [  0., -inf],\n",
       "       [-inf,   0.],\n",
       "       [  0., -inf],\n",
       "       [-inf,   0.],\n",
       "       [-inf,   0.],\n",
       "       [  0., -inf],\n",
       "       [  0., -inf],\n",
       "       [-inf,   0.],\n",
       "       [-inf,   0.],\n",
       "       [-inf,   0.],\n",
       "       [-inf,   0.],\n",
       "       [-inf,   0.],\n",
       "       [  0., -inf],\n",
       "       [-inf,   0.],\n",
       "       [-inf,   0.],\n",
       "       [-inf,   0.],\n",
       "       [-inf,   0.],\n",
       "       [-inf,   0.],\n",
       "       [-inf,   0.],\n",
       "       [  0., -inf],\n",
       "       [-inf,   0.],\n",
       "       [-inf,   0.],\n",
       "       [  0., -inf],\n",
       "       [  0., -inf],\n",
       "       [  0., -inf],\n",
       "       [-inf,   0.],\n",
       "       [-inf,   0.],\n",
       "       [-inf,   0.],\n",
       "       [-inf,   0.],\n",
       "       [-inf,   0.],\n",
       "       [  0., -inf],\n",
       "       [-inf,   0.],\n",
       "       [  0., -inf],\n",
       "       [-inf,   0.],\n",
       "       [-inf,   0.],\n",
       "       [-inf,   0.],\n",
       "       [-inf,   0.],\n",
       "       [-inf,   0.],\n",
       "       [  0., -inf],\n",
       "       [-inf,   0.],\n",
       "       [-inf,   0.],\n",
       "       [-inf,   0.],\n",
       "       [-inf,   0.],\n",
       "       [  0., -inf],\n",
       "       [  0., -inf],\n",
       "       [  0., -inf],\n",
       "       [-inf,   0.],\n",
       "       [-inf,   0.],\n",
       "       [-inf,   0.],\n",
       "       [  0., -inf],\n",
       "       [  0., -inf],\n",
       "       [-inf,   0.],\n",
       "       [-inf,   0.],\n",
       "       [-inf,   0.],\n",
       "       [-inf,   0.],\n",
       "       [-inf,   0.],\n",
       "       [-inf,   0.],\n",
       "       [-inf,   0.],\n",
       "       [-inf,   0.],\n",
       "       [-inf,   0.],\n",
       "       [  0., -inf],\n",
       "       [-inf,   0.],\n",
       "       [-inf,   0.],\n",
       "       [-inf,   0.],\n",
       "       [-inf,   0.],\n",
       "       [-inf,   0.],\n",
       "       [-inf,   0.],\n",
       "       [-inf,   0.],\n",
       "       [-inf,   0.],\n",
       "       [-inf,   0.],\n",
       "       [  0., -inf],\n",
       "       [-inf,   0.],\n",
       "       [-inf,   0.],\n",
       "       [  0., -inf],\n",
       "       [  0., -inf],\n",
       "       [-inf,   0.],\n",
       "       [-inf,   0.],\n",
       "       [-inf,   0.],\n",
       "       [-inf,   0.],\n",
       "       [-inf,   0.],\n",
       "       [-inf,   0.],\n",
       "       [-inf,   0.],\n",
       "       [-inf,   0.],\n",
       "       [-inf,   0.],\n",
       "       [-inf,   0.],\n",
       "       [-inf,   0.],\n",
       "       [-inf,   0.],\n",
       "       [-inf,   0.],\n",
       "       [-inf,   0.],\n",
       "       [  0., -inf],\n",
       "       [-inf,   0.],\n",
       "       [-inf,   0.],\n",
       "       [-inf,   0.],\n",
       "       [-inf,   0.],\n",
       "       [  0., -inf],\n",
       "       [  0., -inf],\n",
       "       [-inf,   0.],\n",
       "       [-inf,   0.],\n",
       "       [-inf,   0.],\n",
       "       [-inf,   0.],\n",
       "       [-inf,   0.],\n",
       "       [-inf,   0.],\n",
       "       [-inf,   0.],\n",
       "       [  0., -inf],\n",
       "       [  0., -inf],\n",
       "       [-inf,   0.],\n",
       "       [  0., -inf],\n",
       "       [-inf,   0.],\n",
       "       [  0., -inf],\n",
       "       [-inf,   0.],\n",
       "       [-inf,   0.],\n",
       "       [-inf,   0.],\n",
       "       [-inf,   0.],\n",
       "       [-inf,   0.],\n",
       "       [  0., -inf],\n",
       "       [-inf,   0.],\n",
       "       [-inf,   0.],\n",
       "       [  0., -inf],\n",
       "       [-inf,   0.],\n",
       "       [  0., -inf],\n",
       "       [-inf,   0.],\n",
       "       [-inf,   0.],\n",
       "       [  0., -inf],\n",
       "       [  0., -inf],\n",
       "       [-inf,   0.],\n",
       "       [-inf,   0.],\n",
       "       [-inf,   0.],\n",
       "       [-inf,   0.],\n",
       "       [  0., -inf],\n",
       "       [  0., -inf],\n",
       "       [-inf,   0.],\n",
       "       [-inf,   0.],\n",
       "       [  0., -inf],\n",
       "       [  0., -inf],\n",
       "       [-inf,   0.],\n",
       "       [-inf,   0.],\n",
       "       [  0., -inf],\n",
       "       [-inf,   0.],\n",
       "       [  0., -inf],\n",
       "       [-inf,   0.],\n",
       "       [-inf,   0.],\n",
       "       [  0., -inf],\n",
       "       [-inf,   0.],\n",
       "       [-inf,   0.],\n",
       "       [-inf,   0.],\n",
       "       [  0., -inf],\n",
       "       [-inf,   0.],\n",
       "       [-inf,   0.],\n",
       "       [-inf,   0.],\n",
       "       [-inf,   0.],\n",
       "       [-inf,   0.],\n",
       "       [  0., -inf],\n",
       "       [-inf,   0.],\n",
       "       [  0., -inf],\n",
       "       [  0., -inf],\n",
       "       [-inf,   0.],\n",
       "       [  0., -inf],\n",
       "       [-inf,   0.]])"
      ]
     },
     "execution_count": 49,
     "metadata": {},
     "output_type": "execute_result"
    }
   ],
   "source": [
    "y"
   ]
  },
  {
   "cell_type": "code",
   "execution_count": null,
   "metadata": {},
   "outputs": [],
   "source": []
  }
 ],
 "metadata": {
  "kernelspec": {
   "display_name": "Python 3",
   "language": "python",
   "name": "python3"
  },
  "language_info": {
   "codemirror_mode": {
    "name": "ipython",
    "version": 3
   },
   "file_extension": ".py",
   "mimetype": "text/x-python",
   "name": "python",
   "nbconvert_exporter": "python",
   "pygments_lexer": "ipython3",
   "version": "3.7.1"
  }
 },
 "nbformat": 4,
 "nbformat_minor": 2
}
